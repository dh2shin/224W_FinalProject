{
 "cells": [
  {
   "cell_type": "code",
   "execution_count": 1,
   "metadata": {},
   "outputs": [
    {
     "name": "stderr",
     "output_type": "stream",
     "text": [
      "/Library/Frameworks/Python.framework/Versions/3.10/lib/python3.10/site-packages/tqdm/auto.py:22: TqdmWarning: IProgress not found. Please update jupyter and ipywidgets. See https://ipywidgets.readthedocs.io/en/stable/user_install.html\n",
      "  from .autonotebook import tqdm as notebook_tqdm\n"
     ]
    }
   ],
   "source": [
    "from gman import GMAN_Traffic, predict\n",
    "from load_data import DataLoader\n",
    "import torch"
   ]
  },
  {
   "cell_type": "code",
   "execution_count": 2,
   "metadata": {},
   "outputs": [],
   "source": [
    "pems_loader = DataLoader(baseline=False)\n",
    "pems_loader.load_data()\n",
    "\n",
    "train_loader = pems_loader.train\n",
    "test_loader = pems_loader.test\n",
    "\n",
    "model = GMAN_Traffic(L=1, K=8, d=8, num_his=12, bn_decay=0.99, steps_per_day=6, use_bias=True, mask=True)\n",
    "model.load_state_dict(torch.load(\"models/GMAN_Traffic_epoch9.pt\"))\n",
    "pred, true = predict(model, test_loader)"
   ]
  },
  {
   "cell_type": "code",
   "execution_count": 3,
   "metadata": {},
   "outputs": [
    {
     "name": "stdout",
     "output_type": "stream",
     "text": [
      "(10417, 325)\n",
      "(10417, 325)\n",
      "(10417, 325)\n"
     ]
    }
   ],
   "source": [
    "print(pred.shape)\n",
    "print(true.shape)\n",
    "true_temp = true[:10417,:]\n",
    "print(true_temp.shape)"
   ]
  },
  {
   "cell_type": "code",
   "execution_count": 4,
   "metadata": {},
   "outputs": [],
   "source": [
    "from evaluate_model import ModelEvaluator\n",
    "\n",
    "ev = ModelEvaluator(y_pred=pred, y_test=true, X_test=None, model_name=\"gman\")\n",
    "ev.evaluate()"
   ]
  },
  {
   "cell_type": "code",
   "execution_count": null,
   "metadata": {},
   "outputs": [],
   "source": []
  }
 ],
 "metadata": {
  "kernelspec": {
   "display_name": "Python 3",
   "language": "python",
   "name": "python3"
  },
  "language_info": {
   "codemirror_mode": {
    "name": "ipython",
    "version": 3
   },
   "file_extension": ".py",
   "mimetype": "text/x-python",
   "name": "python",
   "nbconvert_exporter": "python",
   "pygments_lexer": "ipython3",
   "version": "3.10.1"
  },
  "orig_nbformat": 4
 },
 "nbformat": 4,
 "nbformat_minor": 2
}
