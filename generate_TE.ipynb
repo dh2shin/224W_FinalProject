{
 "cells": [
  {
   "cell_type": "code",
   "execution_count": 94,
   "metadata": {},
   "outputs": [],
   "source": [
    "import torch\n",
    "import torch.nn as nn\n",
    "import sys\n",
    "import numpy as np\n",
    "from load_data import DataLoader\n",
    "import torch.nn.functional as F\n",
    "import pandas as pd"
   ]
  },
  {
   "cell_type": "code",
   "execution_count": 90,
   "metadata": {},
   "outputs": [],
   "source": [
    "def seq2instance(data, num_his, num_pred):\n",
    "    num_step, dims = data.shape\n",
    "    num_sample = 325\n",
    "    x = torch.zeros(num_sample, num_his, dims)\n",
    "    y = torch.zeros(num_sample, num_pred, dims)\n",
    "    for i in range(num_sample):\n",
    "        x[i] = data[i: i + num_his]\n",
    "        y[i] = data[i + num_his: i + num_his + num_pred]\n",
    "    return x, y"
   ]
  },
  {
   "cell_type": "code",
   "execution_count": 106,
   "metadata": {},
   "outputs": [
    {
     "name": "stdout",
     "output_type": "stream",
     "text": [
      "torch.Size([3900, 1])\n",
      "torch.Size([325, 24, 2])\n"
     ]
    }
   ],
   "source": [
    "dataset = DataLoader(baseline=False, train_test_split=0.8)\n",
    "dataset.load_data()\n",
    "train_loader = dataset.train\n",
    "\n",
    "print(train_loader[9].x[:,1,:].reshape(-1,1).shape)\n",
    "num_his = 12\n",
    "num_pred = 12\n",
    "train_TE = seq2instance(train_loader[0].x[:,1,:].reshape(-1,1), num_his, num_pred)\n",
    "\n",
    "train_TE = torch.cat(train_TE,1).type(torch.int32)\n",
    "\n",
    "desired_size =(325,24,2)\n",
    "padding_sizes = tuple(desired_size[i] - train_TE.size(i) for i in range(3))\n",
    "padded_train_TE = F.pad(train_TE, (0,padding_sizes[2],0,padding_sizes[1],0,padding_sizes[0]), mode='constant')\n",
    "print(padded_train_TE.shape)\n",
    "\n",
    "np.save(\"temp_embeddings.npy\", padded_train_TE[46,:,:].detach().numpy())\n",
    "# for time, batch in enumerate(train_loader):\n",
    "#     batch_x_adj = batch.x[:,1,:].squeeze().permute(1,0).unsqueeze(0)\n",
    "#     print(batch.x[:,0,:])\n",
    "# print(dataset.train[-1].x[:,1,:])\n",
    "# print(dataset.train[0].x[1][0])\n",
    "# print(dataset.train[0].x.shape)\n",
    "# print(dataset.train[0].y[:,1,:])"
   ]
  },
  {
   "cell_type": "code",
   "execution_count": 107,
   "metadata": {},
   "outputs": [
    {
     "name": "stdout",
     "output_type": "stream",
     "text": [
      "[[-1  0]\n",
      " [-1  0]\n",
      " [-1  0]\n",
      " [-1  0]\n",
      " [-1  0]\n",
      " [-1  0]\n",
      " [-1  0]\n",
      " [-1  0]\n",
      " [-1  0]\n",
      " [-1  0]\n",
      " [-1  0]\n",
      " [-1  0]\n",
      " [-1  0]\n",
      " [-1  0]\n",
      " [-1  0]\n",
      " [-1  0]\n",
      " [-1  0]\n",
      " [-1  0]\n",
      " [-1  0]\n",
      " [-1  0]\n",
      " [-1  0]\n",
      " [-1  0]\n",
      " [-1  0]\n",
      " [-1  0]]\n"
     ]
    }
   ],
   "source": [
    "print(np.load(\"temp_embeddings.npy\"))"
   ]
  },
  {
   "cell_type": "code",
   "execution_count": 44,
   "metadata": {},
   "outputs": [
    {
     "ename": "TypeError",
     "evalue": "only integer tensors of a single element can be converted to an index",
     "output_type": "error",
     "traceback": [
      "\u001b[0;31m---------------------------------------------------------------------------\u001b[0m",
      "\u001b[0;31mTypeError\u001b[0m                                 Traceback (most recent call last)",
      "\u001b[1;32m/Users/akhileshbalasingam/Desktop/College/Junior/Fall/CS224W/CS224W_Traffic_Forecasting/generate_TE.ipynb Cell 3\u001b[0m in \u001b[0;36m<cell line: 11>\u001b[0;34m()\u001b[0m\n\u001b[1;32m      <a href='vscode-notebook-cell:/Users/akhileshbalasingam/Desktop/College/Junior/Fall/CS224W/CS224W_Traffic_Forecasting/generate_TE.ipynb#W2sZmlsZQ%3D%3D?line=7'>8</a>\u001b[0m timeofday \u001b[39m=\u001b[39m np\u001b[39m.\u001b[39mreshape(timeofday, newshape \u001b[39m=\u001b[39m (\u001b[39m-\u001b[39m\u001b[39m1\u001b[39m, \u001b[39m1\u001b[39m))    \n\u001b[1;32m      <a href='vscode-notebook-cell:/Users/akhileshbalasingam/Desktop/College/Junior/Fall/CS224W/CS224W_Traffic_Forecasting/generate_TE.ipynb#W2sZmlsZQ%3D%3D?line=8'>9</a>\u001b[0m \u001b[39m# train/val/test\u001b[39;00m\n\u001b[1;32m     <a href='vscode-notebook-cell:/Users/akhileshbalasingam/Desktop/College/Junior/Fall/CS224W/CS224W_Traffic_Forecasting/generate_TE.ipynb#W2sZmlsZQ%3D%3D?line=9'>10</a>\u001b[0m \u001b[39m# shape = (num_sample, P + Q, 2)\u001b[39;00m\n\u001b[0;32m---> <a href='vscode-notebook-cell:/Users/akhileshbalasingam/Desktop/College/Junior/Fall/CS224W/CS224W_Traffic_Forecasting/generate_TE.ipynb#W2sZmlsZQ%3D%3D?line=10'>11</a>\u001b[0m trainTE \u001b[39m=\u001b[39m seq2instance(dataset\u001b[39m.\u001b[39;49mtrain[\u001b[39m0\u001b[39;49m]\u001b[39m.\u001b[39;49mx\u001b[39m.\u001b[39;49mreshape(\u001b[39m-\u001b[39;49m\u001b[39m1\u001b[39;49m,\u001b[39m1\u001b[39;49m), P, Q)\n\u001b[1;32m     <a href='vscode-notebook-cell:/Users/akhileshbalasingam/Desktop/College/Junior/Fall/CS224W/CS224W_Traffic_Forecasting/generate_TE.ipynb#W2sZmlsZQ%3D%3D?line=11'>12</a>\u001b[0m trainTE \u001b[39m=\u001b[39m np\u001b[39m.\u001b[39mconcatenate(trainTE, axis \u001b[39m=\u001b[39m \u001b[39m1\u001b[39m)\u001b[39m.\u001b[39mastype(np\u001b[39m.\u001b[39mint32)\n\u001b[1;32m     <a href='vscode-notebook-cell:/Users/akhileshbalasingam/Desktop/College/Junior/Fall/CS224W/CS224W_Traffic_Forecasting/generate_TE.ipynb#W2sZmlsZQ%3D%3D?line=12'>13</a>\u001b[0m \u001b[39m# valTE = seq2instance(val, args.P, args.Q)\u001b[39;00m\n\u001b[1;32m     <a href='vscode-notebook-cell:/Users/akhileshbalasingam/Desktop/College/Junior/Fall/CS224W/CS224W_Traffic_Forecasting/generate_TE.ipynb#W2sZmlsZQ%3D%3D?line=13'>14</a>\u001b[0m \u001b[39m# valTE = np.concatenate(valTE, axis = 1).astype(np.int32)\u001b[39;00m\n",
      "\u001b[1;32m/Users/akhileshbalasingam/Desktop/College/Junior/Fall/CS224W/CS224W_Traffic_Forecasting/generate_TE.ipynb Cell 3\u001b[0m in \u001b[0;36mseq2instance\u001b[0;34m(data, P, Q)\u001b[0m\n\u001b[1;32m      <a href='vscode-notebook-cell:/Users/akhileshbalasingam/Desktop/College/Junior/Fall/CS224W/CS224W_Traffic_Forecasting/generate_TE.ipynb#W2sZmlsZQ%3D%3D?line=7'>8</a>\u001b[0m num_step, dims \u001b[39m=\u001b[39m data\u001b[39m.\u001b[39mshape\n\u001b[1;32m      <a href='vscode-notebook-cell:/Users/akhileshbalasingam/Desktop/College/Junior/Fall/CS224W/CS224W_Traffic_Forecasting/generate_TE.ipynb#W2sZmlsZQ%3D%3D?line=8'>9</a>\u001b[0m num_sample \u001b[39m=\u001b[39m num_step \u001b[39m-\u001b[39m P \u001b[39m-\u001b[39m Q \u001b[39m+\u001b[39m \u001b[39m1\u001b[39m\n\u001b[0;32m---> <a href='vscode-notebook-cell:/Users/akhileshbalasingam/Desktop/College/Junior/Fall/CS224W/CS224W_Traffic_Forecasting/generate_TE.ipynb#W2sZmlsZQ%3D%3D?line=9'>10</a>\u001b[0m x \u001b[39m=\u001b[39m np\u001b[39m.\u001b[39;49mzeros(shape \u001b[39m=\u001b[39;49m (num_sample, P, dims))\n\u001b[1;32m     <a href='vscode-notebook-cell:/Users/akhileshbalasingam/Desktop/College/Junior/Fall/CS224W/CS224W_Traffic_Forecasting/generate_TE.ipynb#W2sZmlsZQ%3D%3D?line=10'>11</a>\u001b[0m y \u001b[39m=\u001b[39m np\u001b[39m.\u001b[39mzeros(shape \u001b[39m=\u001b[39m (num_sample, Q, dims))\n\u001b[1;32m     <a href='vscode-notebook-cell:/Users/akhileshbalasingam/Desktop/College/Junior/Fall/CS224W/CS224W_Traffic_Forecasting/generate_TE.ipynb#W2sZmlsZQ%3D%3D?line=11'>12</a>\u001b[0m \u001b[39mfor\u001b[39;00m i \u001b[39min\u001b[39;00m \u001b[39mrange\u001b[39m(num_sample):\n",
      "\u001b[0;31mTypeError\u001b[0m: only integer tensors of a single element can be converted to an index"
     ]
    }
   ],
   "source": [
    "timeofday = dataset.train[0].x[:,1,:]\n",
    "P = dataset.train[0].x[1][0]\n",
    "Q = dataset.train[0].y[1][0]\n",
    "\n",
    "P_test = dataset.test[0].x[1][0]\n",
    "Q_test = dataset.test[0].y[1][0]"
   ]
  },
  {
   "cell_type": "code",
   "execution_count": null,
   "metadata": {},
   "outputs": [],
   "source": []
  }
 ],
 "metadata": {
  "kernelspec": {
   "display_name": "Python 3",
   "language": "python",
   "name": "python3"
  },
  "language_info": {
   "codemirror_mode": {
    "name": "ipython",
    "version": 3
   },
   "file_extension": ".py",
   "mimetype": "text/x-python",
   "name": "python",
   "nbconvert_exporter": "python",
   "pygments_lexer": "ipython3",
   "version": "3.10.1"
  },
  "orig_nbformat": 4
 },
 "nbformat": 4,
 "nbformat_minor": 2
}
