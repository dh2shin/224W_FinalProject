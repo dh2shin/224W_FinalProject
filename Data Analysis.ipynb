{
 "cells": [
  {
   "cell_type": "code",
   "execution_count": 1,
   "id": "2f202b15",
   "metadata": {},
   "outputs": [],
   "source": [
    "from non_graphs_baselines import NonGraphBaseline"
   ]
  },
  {
   "cell_type": "code",
   "execution_count": 2,
   "id": "76f028d5",
   "metadata": {},
   "outputs": [],
   "source": [
    "model_type = \"timeseries\"\n",
    "mode = \"long_term\"\n",
    "model = NonGraphBaseline(model_type, load_data=True)"
   ]
  },
  {
   "cell_type": "code",
   "execution_count": 7,
   "id": "b8d07a67",
   "metadata": {},
   "outputs": [
    {
     "data": {
      "text/plain": [
       "dict_keys(['edge_index', 'edge_weight', 'features', 'targets', 'additional_feature_keys', 'snapshot_count', 't'])"
      ]
     },
     "execution_count": 7,
     "metadata": {},
     "output_type": "execute_result"
    }
   ],
   "source": [
    "model.train.__dict__.keys()"
   ]
  },
  {
   "cell_type": "code",
   "execution_count": 24,
   "id": "35ea626e",
   "metadata": {},
   "outputs": [
    {
     "data": {
      "text/plain": [
       "array([[  0,   1,   2, ..., 324, 324, 324],\n",
       "       [  0,   1,   2, ..., 257, 310, 324]])"
      ]
     },
     "execution_count": 24,
     "metadata": {},
     "output_type": "execute_result"
    }
   ],
   "source": [
    "model.train.edge_index"
   ]
  },
  {
   "cell_type": "code",
   "execution_count": 11,
   "id": "04a1d8f7",
   "metadata": {},
   "outputs": [
    {
     "data": {
      "text/plain": [
       "(2, 2694)"
      ]
     },
     "execution_count": 11,
     "metadata": {},
     "output_type": "execute_result"
    }
   ],
   "source": [
    "model.train.edge_index.shape"
   ]
  },
  {
   "cell_type": "code",
   "execution_count": 18,
   "id": "b594cfe2",
   "metadata": {},
   "outputs": [
    {
     "data": {
      "text/plain": [
       "41665"
      ]
     },
     "execution_count": 18,
     "metadata": {},
     "output_type": "execute_result"
    }
   ],
   "source": [
    "model.train.snapshot_count"
   ]
  },
  {
   "cell_type": "code",
   "execution_count": 21,
   "id": "46d3a059",
   "metadata": {},
   "outputs": [
    {
     "name": "stdout",
     "output_type": "stream",
     "text": [
      "41665\n",
      "(325, 2, 12)\n"
     ]
    }
   ],
   "source": [
    "print(len(model.train.features))\n",
    "print(model.train.features[0].shape)"
   ]
  },
  {
   "cell_type": "code",
   "execution_count": 1,
   "id": "79e9fdc2",
   "metadata": {},
   "outputs": [
    {
     "ename": "NameError",
     "evalue": "name 'model' is not defined",
     "output_type": "error",
     "traceback": [
      "\u001b[0;31m---------------------------------------------------------------------------\u001b[0m",
      "\u001b[0;31mNameError\u001b[0m                                 Traceback (most recent call last)",
      "Cell \u001b[0;32mIn[1], line 1\u001b[0m\n\u001b[0;32m----> 1\u001b[0m \u001b[38;5;28mprint\u001b[39m(\u001b[38;5;28mlen\u001b[39m(\u001b[43mmodel\u001b[49m\u001b[38;5;241m.\u001b[39mtrain\u001b[38;5;241m.\u001b[39mtargets))\n\u001b[1;32m      2\u001b[0m \u001b[38;5;28mprint\u001b[39m(model\u001b[38;5;241m.\u001b[39mtrain\u001b[38;5;241m.\u001b[39mtargets[\u001b[38;5;241m0\u001b[39m]\u001b[38;5;241m.\u001b[39mshape)\n",
      "\u001b[0;31mNameError\u001b[0m: name 'model' is not defined"
     ]
    }
   ],
   "source": [
    "print(len(model.train.targets))\n",
    "print(model.train.targets[0].shape)"
   ]
  },
  {
   "cell_type": "code",
   "execution_count": 21,
   "id": "6dcf4d9a",
   "metadata": {},
   "outputs": [
    {
     "ename": "AttributeError",
     "evalue": "'function' object has no attribute 'features'",
     "output_type": "error",
     "traceback": [
      "\u001b[0;31m---------------------------------------------------------------------------\u001b[0m",
      "\u001b[0;31mAttributeError\u001b[0m                            Traceback (most recent call last)",
      "Cell \u001b[0;32mIn[21], line 2\u001b[0m\n\u001b[1;32m      1\u001b[0m \u001b[38;5;66;03m# Feature vector's second dimension (normalized time)\u001b[39;00m\n\u001b[0;32m----> 2\u001b[0m \u001b[38;5;28mprint\u001b[39m(\u001b[43mmodel\u001b[49m\u001b[38;5;241;43m.\u001b[39;49m\u001b[43mtrain\u001b[49m\u001b[38;5;241;43m.\u001b[39;49m\u001b[43mfeatures\u001b[49m[\u001b[38;5;241m0\u001b[39m][\u001b[38;5;241m0\u001b[39m][\u001b[38;5;241m1\u001b[39m])\n\u001b[1;32m      3\u001b[0m \u001b[38;5;28mprint\u001b[39m(model\u001b[38;5;241m.\u001b[39mtrain\u001b[38;5;241m.\u001b[39mfeatures[\u001b[38;5;241m-\u001b[39m\u001b[38;5;241m1\u001b[39m][\u001b[38;5;241m0\u001b[39m][\u001b[38;5;241m1\u001b[39m])\n",
      "\u001b[0;31mAttributeError\u001b[0m: 'function' object has no attribute 'features'"
     ]
    }
   ],
   "source": [
    "# Feature vector's second dimension (normalized time)\n",
    "print(model.train.features[0][0][1])\n",
    "print(model.train.features[-1][0][1])"
   ]
  },
  {
   "cell_type": "code",
   "execution_count": 1,
   "id": "c0d7cffe",
   "metadata": {},
   "outputs": [],
   "source": [
    "from agcrn import AGCRNWrapper\n",
    "\n",
    "model = AGCRNWrapper(embed_dim=16)"
   ]
  },
  {
   "cell_type": "code",
   "execution_count": 2,
   "id": "5d0777ab",
   "metadata": {},
   "outputs": [
    {
     "name": "stdout",
     "output_type": "stream",
     "text": [
      "torch.Size([16, 3, 24, 24])\n"
     ]
    }
   ],
   "source": [
    "print(model.model._gate.weights_pool.shape)"
   ]
  },
  {
   "cell_type": "code",
   "execution_count": null,
   "id": "b9fd124e",
   "metadata": {},
   "outputs": [
    {
     "name": "stdout",
     "output_type": "stream",
     "text": [
      "Running training...\n",
      "Epoch 0 train MSE: 1.3497\n",
      "Epoch 0 validation MSE: 1.0789\n",
      "Epoch 1 train MSE: 1.0697\n",
      "Epoch 1 validation MSE: 0.9010\n"
     ]
    }
   ],
   "source": [
    "import torch\n",
    "optimizer = torch.optim.Adam(model.parameters(), lr=model.learning_rate)\n",
    "optimizer.zero_grad()\n",
    "model.train()\n",
    "# subset = 10000\n",
    "print(\"Running training...\")\n",
    "for epoch in range(20): \n",
    "    loss = 0\n",
    "    step = 0\n",
    "    for time, batch in enumerate(model.train_dataloader):\n",
    "#         optimizer.zero_grad()\n",
    "        out = model.model(batch.x, model.node_embeddings)\n",
    "        loss = loss + model.loss_fn(out[:,0,:], batch.y[:,0,:])\n",
    "        step += 1\n",
    "    loss = loss / (step + 1)\n",
    "    loss.backward()\n",
    "    optimizer.step()\n",
    "    optimizer.zero_grad()\n",
    "    print(\"Epoch {} train MSE: {:.4f}\".format(epoch, loss.item()))\n",
    "    torch.save(model.state_dict(), \"/Users/HarryShin/repos/CS224W_Traffic_Forecasting/agcrn_embed_16 \"+str(epoch))\n",
    "    model.eval()\n",
    "    val_loss = 0\n",
    "    step = 0\n",
    "    with torch.no_grad():\n",
    "        for batch_idx, batch in enumerate(model.test_dataloader):\n",
    "            output = model.model(batch.x, model.node_embeddings)\n",
    "            val_loss = val_loss + model.loss_fn(output[:,0,:], batch.y[:,0,:])\n",
    "            step += 1\n",
    "        val_loss = val_loss / step\n",
    "        print(\"Epoch {} validation MSE: {:.4f}\".format(epoch, val_loss.item()))\n",
    "    model.train()\n"
   ]
  },
  {
   "cell_type": "code",
   "execution_count": 1,
   "id": "d8430d27",
   "metadata": {},
   "outputs": [
    {
     "data": {
      "text/plain": [
       "<All keys matched successfully>"
      ]
     },
     "execution_count": 1,
     "metadata": {},
     "output_type": "execute_result"
    }
   ],
   "source": [
    "from agcrn import AGCRNWrapper\n",
    "import torch\n",
    "\n",
    "model = AGCRNWrapper()\n",
    "model.load_state_dict(torch.load(\"/Users/HarryShin/repos/CS224W_Traffic_Forecasting/checkpoints/agcrnfor15epochs 14\"))\n"
   ]
  },
  {
   "cell_type": "code",
   "execution_count": 2,
   "id": "0f1584b8",
   "metadata": {},
   "outputs": [],
   "source": [
    "pred, true = model.predict(None)"
   ]
  },
  {
   "cell_type": "code",
   "execution_count": 3,
   "id": "21ffda54",
   "metadata": {},
   "outputs": [
    {
     "data": {
      "text/plain": [
       "(125004, 325)"
      ]
     },
     "execution_count": 3,
     "metadata": {},
     "output_type": "execute_result"
    }
   ],
   "source": [
    "pred.shape"
   ]
  },
  {
   "cell_type": "code",
   "execution_count": 4,
   "id": "811b322f",
   "metadata": {},
   "outputs": [
    {
     "data": {
      "text/plain": [
       "(125004, 325)"
      ]
     },
     "execution_count": 4,
     "metadata": {},
     "output_type": "execute_result"
    }
   ],
   "source": [
    "true.shape"
   ]
  },
  {
   "cell_type": "code",
   "execution_count": 3,
   "id": "c658a22d",
   "metadata": {},
   "outputs": [],
   "source": [
    "from evaluate_model import ModelEvaluator\n",
    "\n",
    "ev = ModelEvaluator(y_pred=pred, y_test=true, X_test=None, model_name=\"agcrn\")"
   ]
  },
  {
   "cell_type": "code",
   "execution_count": 4,
   "id": "e6f59d47",
   "metadata": {
    "scrolled": true
   },
   "outputs": [],
   "source": [
    "ev.evaluate()"
   ]
  },
  {
   "cell_type": "code",
   "execution_count": null,
   "id": "0a0f5d6d",
   "metadata": {},
   "outputs": [],
   "source": []
  }
 ],
 "metadata": {
  "kernelspec": {
   "display_name": "pems",
   "language": "python",
   "name": "pems"
  },
  "language_info": {
   "codemirror_mode": {
    "name": "ipython",
    "version": 3
   },
   "file_extension": ".py",
   "mimetype": "text/x-python",
   "name": "python",
   "nbconvert_exporter": "python",
   "pygments_lexer": "ipython3",
   "version": "3.9.18"
  }
 },
 "nbformat": 4,
 "nbformat_minor": 5
}
