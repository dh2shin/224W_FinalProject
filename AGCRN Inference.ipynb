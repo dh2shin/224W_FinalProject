{
 "cells": [
  {
   "cell_type": "code",
   "execution_count": 3,
   "id": "a6b442e1",
   "metadata": {},
   "outputs": [
    {
     "name": "stdout",
     "output_type": "stream",
     "text": [
      "(125004, 325)\n"
     ]
    }
   ],
   "source": [
    "from agcrn import AGCRNWrapper\n",
    "import torch\n",
    "\n",
    "model = AGCRNWrapper()\n",
    "model.load_state_dict(torch.load(\"/Users/HarryShin/repos/CS224W_Traffic_Forecasting/checkpoints/agcrn_epoch_15\"))\n",
    "pred, true = model.predict(None)\n",
    "print(pred.shape)"
   ]
  },
  {
   "cell_type": "code",
   "execution_count": 4,
   "id": "7ce00557",
   "metadata": {},
   "outputs": [],
   "source": [
    "from evaluate_model import ModelEvaluator\n",
    "\n",
    "ev = ModelEvaluator(y_pred=pred, y_test=true, X_test=None, model_name=\"agcrn\")\n",
    "ev.evaluate()"
   ]
  },
  {
   "cell_type": "code",
   "execution_count": null,
   "id": "370bd7bc",
   "metadata": {},
   "outputs": [],
   "source": []
  }
 ],
 "metadata": {
  "kernelspec": {
   "display_name": "pems",
   "language": "python",
   "name": "pems"
  },
  "language_info": {
   "codemirror_mode": {
    "name": "ipython",
    "version": 3
   },
   "file_extension": ".py",
   "mimetype": "text/x-python",
   "name": "python",
   "nbconvert_exporter": "python",
   "pygments_lexer": "ipython3",
   "version": "3.9.18"
  }
 },
 "nbformat": 4,
 "nbformat_minor": 5
}
